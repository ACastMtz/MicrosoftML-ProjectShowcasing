{
 "cells": [
  {
   "cell_type": "markdown",
   "metadata": {},
   "source": [
    "# 1. Introduction"
   ]
  },
  {
   "cell_type": "markdown",
   "metadata": {},
   "source": [
    "✅ Cardiovascular Disease dataset is a Kaggle Dataset (https://www.kaggle.com/sulianova/cardiovascular-disease-dataset) the containts history of health status of some persons. A group of them suffered a heart attackt. So using this dataset we can train a model in order to predict if a person could suffer a heart attack."
   ]
  },
  {
   "cell_type": "code",
   "execution_count": 1,
   "metadata": {},
   "outputs": [
    {
     "name": "stderr",
     "output_type": "stream",
     "text": [
      "/anaconda/envs/azureml_py36/lib/python3.6/site-packages/statsmodels/tools/_testing.py:19: FutureWarning: pandas.util.testing is deprecated. Use the functions in the public API at pandas.testing instead.\n",
      "  import pandas.util.testing as tm\n"
     ]
    }
   ],
   "source": [
    "import pandas as pd\n",
    "import numpy as np\n",
    "\n",
    "import matplotlib.pyplot as plt\n",
    "import seaborn as sns\n",
    "\n",
    "from sklearn.preprocessing import LabelEncoder\n",
    "from sklearn import preprocessing\n",
    "from sklearn.preprocessing import StandardScaler\n",
    "from sklearn.model_selection import train_test_split\n",
    "from statsmodels.stats.outliers_influence import variance_inflation_factor\n",
    "\n",
    "from scipy import stats\n",
    "from scipy.stats import skew, boxcox_normmax\n",
    "from scipy.special import boxcox1p\n",
    "\n",
    "from sklearn.model_selection import KFold\n",
    "from sklearn.model_selection import cross_val_score\n",
    "from sklearn.model_selection import GridSearchCV\n",
    "\n",
    "import xgboost as xgb\n",
    "from xgboost.sklearn import XGBRegressor\n",
    "from xgboost import plot_importance\n",
    "from sklearn.ensemble import GradientBoostingRegressor\n",
    "from sklearn.ensemble import RandomForestRegressor\n",
    "import lightgbm as lgb\n",
    "\n",
    "from sklearn.linear_model import LinearRegression\n",
    "from sklearn.linear_model import RidgeCV\n",
    "from sklearn.linear_model import LassoCV\n",
    "from sklearn.linear_model import ElasticNetCV\n",
    "from sklearn.svm import SVR\n",
    "\n",
    "from mlxtend.regressor import StackingCVRegressor\n",
    "from sklearn.pipeline import make_pipeline\n",
    "from sklearn.preprocessing import RobustScaler\n",
    "\n",
    "from sklearn import metrics\n",
    "from sklearn.metrics import mean_squared_error\n",
    "from sklearn.metrics import mean_absolute_error\n",
    "import math\n",
    "from math import sqrt\n",
    "from sklearn.metrics import r2_score\n",
    "\n",
    "#import pandas_profiling"
   ]
  },
  {
   "cell_type": "code",
   "execution_count": 2,
   "metadata": {},
   "outputs": [],
   "source": [
    "from xgboost.sklearn import XGBClassifier\n",
    "from sklearn.ensemble import GradientBoostingClassifier\n",
    "from sklearn.ensemble import RandomForestClassifier\n",
    "from mlxtend.classifier import StackingCVClassifier"
   ]
  },
  {
   "cell_type": "code",
   "execution_count": 3,
   "metadata": {},
   "outputs": [],
   "source": [
    "import sys\n",
    "\n",
    "if not sys.warnoptions:\n",
    "    import warnings\n",
    "    warnings.simplefilter(\"ignore\")"
   ]
  },
  {
   "cell_type": "code",
   "execution_count": 4,
   "metadata": {},
   "outputs": [],
   "source": [
    "pd.options.display.max_columns = 250\n",
    "pd.options.display.max_rows = 250"
   ]
  },
  {
   "cell_type": "markdown",
   "metadata": {},
   "source": [
    "# 2. Exploratory Analysis"
   ]
  },
  {
   "cell_type": "code",
   "execution_count": 5,
   "metadata": {},
   "outputs": [
    {
     "data": {
      "text/plain": [
       "(70000, 13)"
      ]
     },
     "execution_count": 5,
     "metadata": {},
     "output_type": "execute_result"
    }
   ],
   "source": [
    "df = pd.read_csv('../Data/cardio_train.csv',sep=';')\n",
    "df.shape"
   ]
  },
  {
   "cell_type": "code",
   "execution_count": 6,
   "metadata": {},
   "outputs": [
    {
     "data": {
      "text/html": [
       "<div>\n",
       "<style scoped>\n",
       "    .dataframe tbody tr th:only-of-type {\n",
       "        vertical-align: middle;\n",
       "    }\n",
       "\n",
       "    .dataframe tbody tr th {\n",
       "        vertical-align: top;\n",
       "    }\n",
       "\n",
       "    .dataframe thead th {\n",
       "        text-align: right;\n",
       "    }\n",
       "</style>\n",
       "<table border=\"1\" class=\"dataframe\">\n",
       "  <thead>\n",
       "    <tr style=\"text-align: right;\">\n",
       "      <th></th>\n",
       "      <th>id</th>\n",
       "      <th>age</th>\n",
       "      <th>gender</th>\n",
       "      <th>height</th>\n",
       "      <th>weight</th>\n",
       "      <th>ap_hi</th>\n",
       "      <th>ap_lo</th>\n",
       "      <th>cholesterol</th>\n",
       "      <th>gluc</th>\n",
       "      <th>smoke</th>\n",
       "      <th>alco</th>\n",
       "      <th>active</th>\n",
       "      <th>cardio</th>\n",
       "    </tr>\n",
       "  </thead>\n",
       "  <tbody>\n",
       "    <tr>\n",
       "      <th>0</th>\n",
       "      <td>0</td>\n",
       "      <td>18393</td>\n",
       "      <td>2</td>\n",
       "      <td>168</td>\n",
       "      <td>62.0</td>\n",
       "      <td>110</td>\n",
       "      <td>80</td>\n",
       "      <td>1</td>\n",
       "      <td>1</td>\n",
       "      <td>0</td>\n",
       "      <td>0</td>\n",
       "      <td>1</td>\n",
       "      <td>0</td>\n",
       "    </tr>\n",
       "    <tr>\n",
       "      <th>1</th>\n",
       "      <td>1</td>\n",
       "      <td>20228</td>\n",
       "      <td>1</td>\n",
       "      <td>156</td>\n",
       "      <td>85.0</td>\n",
       "      <td>140</td>\n",
       "      <td>90</td>\n",
       "      <td>3</td>\n",
       "      <td>1</td>\n",
       "      <td>0</td>\n",
       "      <td>0</td>\n",
       "      <td>1</td>\n",
       "      <td>1</td>\n",
       "    </tr>\n",
       "  </tbody>\n",
       "</table>\n",
       "</div>"
      ],
      "text/plain": [
       "   id    age  gender  height  weight  ap_hi  ap_lo  cholesterol  gluc  smoke  \\\n",
       "0   0  18393       2     168    62.0    110     80            1     1      0   \n",
       "1   1  20228       1     156    85.0    140     90            3     1      0   \n",
       "\n",
       "   alco  active  cardio  \n",
       "0     0       1       0  \n",
       "1     0       1       1  "
      ]
     },
     "execution_count": 6,
     "metadata": {},
     "output_type": "execute_result"
    }
   ],
   "source": [
    "df.head(2)"
   ]
  },
  {
   "cell_type": "code",
   "execution_count": 7,
   "metadata": {},
   "outputs": [
    {
     "data": {
      "text/plain": [
       "id             0\n",
       "age            0\n",
       "gender         0\n",
       "height         0\n",
       "weight         0\n",
       "ap_hi          0\n",
       "ap_lo          0\n",
       "cholesterol    0\n",
       "gluc           0\n",
       "smoke          0\n",
       "alco           0\n",
       "active         0\n",
       "cardio         0\n",
       "dtype: int64"
      ]
     },
     "execution_count": 7,
     "metadata": {},
     "output_type": "execute_result"
    }
   ],
   "source": [
    "df.isna().sum()"
   ]
  },
  {
   "cell_type": "code",
   "execution_count": 8,
   "metadata": {},
   "outputs": [],
   "source": [
    "## Pandas Profilling\n",
    "#profile = df.profile_report(title=\"Pandas Profiling Report\")\n",
    "#profile.to_file('profile_report_cardio_disease.html')"
   ]
  },
  {
   "cell_type": "code",
   "execution_count": 9,
   "metadata": {},
   "outputs": [
    {
     "data": {
      "text/plain": [
       "0    35021\n",
       "1    34979\n",
       "Name: cardio, dtype: int64"
      ]
     },
     "execution_count": 9,
     "metadata": {},
     "output_type": "execute_result"
    }
   ],
   "source": [
    "df.cardio.value_counts()"
   ]
  },
  {
   "cell_type": "markdown",
   "metadata": {},
   "source": [
    "Data is balanced"
   ]
  },
  {
   "cell_type": "code",
   "execution_count": 10,
   "metadata": {},
   "outputs": [
    {
     "data": {
      "text/plain": [
       "<matplotlib.axes._subplots.AxesSubplot at 0x7f6126f35e10>"
      ]
     },
     "execution_count": 10,
     "metadata": {},
     "output_type": "execute_result"
    },
    {
     "data": {
      "image/png": "[encoded data removed]",
      "text/plain": [
       "<Figure size 288x216 with 1 Axes>"
      ]
     },
     "metadata": {
      "needs_background": "light"
     },
     "output_type": "display_data"
    }
   ],
   "source": [
    "plt.figure(figsize=(4, 3))\n",
    "sns.countplot(df.cholesterol,hue=df.cardio, palette= 'ocean')"
   ]
  },
  {
   "cell_type": "code",
   "execution_count": 11,
   "metadata": {},
   "outputs": [
    {
     "data": {
      "text/plain": [
       "<matplotlib.axes._subplots.AxesSubplot at 0x7f612686e278>"
      ]
     },
     "execution_count": 11,
     "metadata": {},
     "output_type": "execute_result"
    },
    {
     "data": {
      "image/png": "[encoded data removed]",
      "text/plain": [
       "<Figure size 288x216 with 1 Axes>"
      ]
     },
     "metadata": {
      "needs_background": "light"
     },
     "output_type": "display_data"
    }
   ],
   "source": [
    "plt.figure(figsize=(4, 3))\n",
    "sns.countplot(df.gender,hue=df.cardio, palette= 'ocean')"
   ]
  },
  {
   "cell_type": "code",
   "execution_count": 12,
   "metadata": {},
   "outputs": [
    {
     "data": {
      "text/plain": [
       "<matplotlib.axes._subplots.AxesSubplot at 0x7f61260c7198>"
      ]
     },
     "execution_count": 12,
     "metadata": {},
     "output_type": "execute_result"
    },
    {
     "data": {
      "image/png": "[encoded data removed]",
      "text/plain": [
       "<Figure size 432x288 with 1 Axes>"
      ]
     },
     "metadata": {
      "needs_background": "light"
     },
     "output_type": "display_data"
    }
   ],
   "source": [
    "sns.boxplot(df.height)"
   ]
  },
  {
   "cell_type": "code",
   "execution_count": 13,
   "metadata": {},
   "outputs": [
    {
     "data": {
      "text/plain": [
       "<matplotlib.axes._subplots.AxesSubplot at 0x7f6126040940>"
      ]
     },
     "execution_count": 13,
     "metadata": {},
     "output_type": "execute_result"
    },
    {
     "data": {
      "image/png": "[encoded data removed]",
      "text/plain": [
       "<Figure size 432x288 with 1 Axes>"
      ]
     },
     "metadata": {
      "needs_background": "light"
     },
     "output_type": "display_data"
    }
   ],
   "source": [
    "sns.boxplot(df.weight)"
   ]
  },
  {
   "cell_type": "code",
   "execution_count": 14,
   "metadata": {},
   "outputs": [
    {
     "data": {
      "text/plain": [
       "<matplotlib.axes._subplots.AxesSubplot at 0x7f6126131a90>"
      ]
     },
     "execution_count": 14,
     "metadata": {},
     "output_type": "execute_result"
    },
    {
     "data": {
      "image/png": "[encoded data removed]",
      "text/plain": [
       "<Figure size 288x216 with 1 Axes>"
      ]
     },
     "metadata": {
      "needs_background": "light"
     },
     "output_type": "display_data"
    }
   ],
   "source": [
    "plt.figure(figsize=(4,3))\n",
    "sns.regplot(df['weight'],df['height'],color='m')"
   ]
  },
  {
   "cell_type": "markdown",
   "metadata": {},
   "source": [
    "# 3. Feature Engineering"
   ]
  },
  {
   "cell_type": "markdown",
   "metadata": {},
   "source": [
    "## 3.1 Outliers"
   ]
  },
  {
   "cell_type": "code",
   "execution_count": 15,
   "metadata": {},
   "outputs": [
    {
     "data": {
      "text/plain": [
       "(69997, 13)"
      ]
     },
     "execution_count": 15,
     "metadata": {},
     "output_type": "execute_result"
    }
   ],
   "source": [
    "df = df[(df['height']<250) & (df['weight']>20.0)]\n",
    "df.shape"
   ]
  },
  {
   "cell_type": "code",
   "execution_count": 16,
   "metadata": {},
   "outputs": [],
   "source": [
    "df[\"bmi\"] = (df[\"weight\"]/ (df[\"height\"]/100)**2).round(1)"
   ]
  },
  {
   "cell_type": "code",
   "execution_count": 17,
   "metadata": {},
   "outputs": [
    {
     "data": {
      "text/plain": [
       "<matplotlib.axes._subplots.AxesSubplot at 0x7f6123f96e80>"
      ]
     },
     "execution_count": 17,
     "metadata": {},
     "output_type": "execute_result"
    },
    {
     "data": {
      "image/png": "[encoded data removed]",
      "text/plain": [
       "<Figure size 432x288 with 1 Axes>"
      ]
     },
     "metadata": {
      "needs_background": "light"
     },
     "output_type": "display_data"
    }
   ],
   "source": [
    "sns.boxplot(df.bmi)"
   ]
  },
  {
   "cell_type": "code",
   "execution_count": 18,
   "metadata": {},
   "outputs": [
    {
     "data": {
      "text/plain": [
       "(69964, 14)"
      ]
     },
     "execution_count": 18,
     "metadata": {},
     "output_type": "execute_result"
    }
   ],
   "source": [
    "df[(df['bmi']>10) & (df['bmi']<100)].shape"
   ]
  },
  {
   "cell_type": "code",
   "execution_count": 19,
   "metadata": {},
   "outputs": [
    {
     "data": {
      "text/plain": [
       "(69964, 14)"
      ]
     },
     "execution_count": 19,
     "metadata": {},
     "output_type": "execute_result"
    }
   ],
   "source": [
    "df = df[(df['bmi']>10) & (df['bmi']<100)]\n",
    "df.shape"
   ]
  },
  {
   "cell_type": "code",
   "execution_count": 20,
   "metadata": {},
   "outputs": [
    {
     "data": {
      "text/plain": [
       "<matplotlib.axes._subplots.AxesSubplot at 0x7f61238ffcf8>"
      ]
     },
     "execution_count": 20,
     "metadata": {},
     "output_type": "execute_result"
    },
    {
     "data": {
      "image/png": "[encoded data removed]",
      "text/plain": [
       "<Figure size 432x288 with 1 Axes>"
      ]
     },
     "metadata": {
      "needs_background": "light"
     },
     "output_type": "display_data"
    }
   ],
   "source": [
    "sns.boxplot(df.bmi)"
   ]
  },
  {
   "cell_type": "code",
   "execution_count": 21,
   "metadata": {},
   "outputs": [],
   "source": [
    "df.age = np.round(df.age/365.25,decimals=1)"
   ]
  },
  {
   "cell_type": "code",
   "execution_count": 22,
   "metadata": {},
   "outputs": [
    {
     "data": {
      "text/plain": [
       "<matplotlib.axes._subplots.AxesSubplot at 0x7f6123f59160>"
      ]
     },
     "execution_count": 22,
     "metadata": {},
     "output_type": "execute_result"
    },
    {
     "data": {
      "image/png": "[encoded data removed]",
      "text/plain": [
       "<Figure size 432x288 with 1 Axes>"
      ]
     },
     "metadata": {
      "needs_background": "light"
     },
     "output_type": "display_data"
    }
   ],
   "source": [
    "sns.boxplot(df.age)"
   ]
  },
  {
   "cell_type": "code",
   "execution_count": 23,
   "metadata": {},
   "outputs": [
    {
     "data": {
      "text/plain": [
       "(68645, 14)"
      ]
     },
     "execution_count": 23,
     "metadata": {},
     "output_type": "execute_result"
    }
   ],
   "source": [
    "df= df[(df['ap_lo']<360) & (df['ap_hi']<360)].copy()\n",
    "df= df[(df['ap_lo']>20) & (df['ap_hi']>20)].copy()\n",
    "df=df[df['ap_hi']>df['ap_lo']]\n",
    "df.shape"
   ]
  },
  {
   "cell_type": "code",
   "execution_count": 24,
   "metadata": {},
   "outputs": [
    {
     "data": {
      "text/html": [
       "<div>\n",
       "<style scoped>\n",
       "    .dataframe tbody tr th:only-of-type {\n",
       "        vertical-align: middle;\n",
       "    }\n",
       "\n",
       "    .dataframe tbody tr th {\n",
       "        vertical-align: top;\n",
       "    }\n",
       "\n",
       "    .dataframe thead th {\n",
       "        text-align: right;\n",
       "    }\n",
       "</style>\n",
       "<table border=\"1\" class=\"dataframe\">\n",
       "  <thead>\n",
       "    <tr style=\"text-align: right;\">\n",
       "      <th></th>\n",
       "      <th>id</th>\n",
       "      <th>age</th>\n",
       "      <th>gender</th>\n",
       "      <th>height</th>\n",
       "      <th>weight</th>\n",
       "      <th>ap_hi</th>\n",
       "      <th>ap_lo</th>\n",
       "      <th>cholesterol</th>\n",
       "      <th>gluc</th>\n",
       "      <th>smoke</th>\n",
       "      <th>alco</th>\n",
       "      <th>active</th>\n",
       "      <th>cardio</th>\n",
       "      <th>bmi</th>\n",
       "    </tr>\n",
       "  </thead>\n",
       "  <tbody>\n",
       "    <tr>\n",
       "      <th>0</th>\n",
       "      <td>0</td>\n",
       "      <td>50.4</td>\n",
       "      <td>F</td>\n",
       "      <td>168</td>\n",
       "      <td>62.0</td>\n",
       "      <td>110</td>\n",
       "      <td>80</td>\n",
       "      <td>normal</td>\n",
       "      <td>normal</td>\n",
       "      <td>No</td>\n",
       "      <td>No</td>\n",
       "      <td>Yes</td>\n",
       "      <td>0</td>\n",
       "      <td>22.0</td>\n",
       "    </tr>\n",
       "    <tr>\n",
       "      <th>1</th>\n",
       "      <td>1</td>\n",
       "      <td>55.4</td>\n",
       "      <td>M</td>\n",
       "      <td>156</td>\n",
       "      <td>85.0</td>\n",
       "      <td>140</td>\n",
       "      <td>90</td>\n",
       "      <td>well above normal</td>\n",
       "      <td>normal</td>\n",
       "      <td>No</td>\n",
       "      <td>No</td>\n",
       "      <td>Yes</td>\n",
       "      <td>1</td>\n",
       "      <td>34.9</td>\n",
       "    </tr>\n",
       "  </tbody>\n",
       "</table>\n",
       "</div>"
      ],
      "text/plain": [
       "   id   age gender  height  weight  ap_hi  ap_lo        cholesterol    gluc  \\\n",
       "0   0  50.4      F     168    62.0    110     80             normal  normal   \n",
       "1   1  55.4      M     156    85.0    140     90  well above normal  normal   \n",
       "\n",
       "  smoke alco active  cardio   bmi  \n",
       "0    No   No    Yes       0  22.0  \n",
       "1    No   No    Yes       1  34.9  "
      ]
     },
     "execution_count": 24,
     "metadata": {},
     "output_type": "execute_result"
    }
   ],
   "source": [
    "df['cholesterol']=df['cholesterol'].map({ 1: 'normal', 2: 'above normal', 3: 'well above normal'})\n",
    "df['gluc']=df['gluc'].map({ 1: 'normal', 2: 'above normal', 3: 'well above normal'})\n",
    "df['gender']=df['gender'].map({ 1: 'M', 2: 'F'})\n",
    "df['smoke']=df['smoke'].map({ 0: 'No', 1: 'Yes'})\n",
    "df['alco']=df['alco'].map({ 0: 'No', 1: 'Yes'})\n",
    "df['active']=df['active'].map({ 0: 'No', 1: 'Yes'})\n",
    "df.head(2)"
   ]
  },
  {
   "cell_type": "code",
   "execution_count": null,
   "metadata": {},
   "outputs": [],
   "source": []
  },
  {
   "cell_type": "code",
   "execution_count": 25,
   "metadata": {},
   "outputs": [],
   "source": [
    "df_numerical_data = df[['age','height','weight','ap_hi','ap_lo','bmi','cardio']]"
   ]
  },
  {
   "cell_type": "code",
   "execution_count": 26,
   "metadata": {},
   "outputs": [
    {
     "data": {
      "text/plain": [
       "<matplotlib.axes._subplots.AxesSubplot at 0x7f6123ec04a8>"
      ]
     },
     "execution_count": 26,
     "metadata": {},
     "output_type": "execute_result"
    },
    {
     "data": {
      "image/png": "[encoded data removed]",
      "text/plain": [
       "<Figure size 720x720 with 2 Axes>"
      ]
     },
     "metadata": {
      "needs_background": "light"
     },
     "output_type": "display_data"
    }
   ],
   "source": [
    "corr=df_numerical_data.corr(method='pearson')\n",
    "plt.figure(figsize=(10, 10))\n",
    "mask = np.triu(np.ones_like(corr, dtype=np.bool))\n",
    "palette = sns.diverging_palette(50, 200, n=256)\n",
    "sns.heatmap(corr, annot=True, fmt=\".2f\", cmap='RdBu', mask= mask, vmin=-1, vmax=1, center= 0,\n",
    "            square=True, linewidths=2, cbar_kws={\"shrink\": .5})"
   ]
  },
  {
   "cell_type": "code",
   "execution_count": 27,
   "metadata": {},
   "outputs": [
    {
     "name": "stdout",
     "output_type": "stream",
     "text": [
      "[]\n"
     ]
    }
   ],
   "source": [
    "#If any correlation higher than 90%\n",
    "corr_mask_numerical = corr.mask(mask)\n",
    "corr_values_numerical = [c for c in corr_mask_numerical.columns if any (corr_mask_numerical[c] > 0.90)]\n",
    "print(corr_values_numerical)"
   ]
  },
  {
   "cell_type": "code",
   "execution_count": 28,
   "metadata": {},
   "outputs": [],
   "source": [
    "##Finding skew data\n",
    "df_numerical_data = df_numerical_data.drop(['cardio'], axis=1)\n",
    "skew_features = df_numerical_data.apply(lambda x: skew(x.dropna())).sort_values(ascending=False)\n",
    "high_skew = skew_features[skew_features > 0.5]"
   ]
  },
  {
   "cell_type": "code",
   "execution_count": 29,
   "metadata": {},
   "outputs": [
    {
     "data": {
      "text/html": [
       "<div>\n",
       "<style scoped>\n",
       "    .dataframe tbody tr th:only-of-type {\n",
       "        vertical-align: middle;\n",
       "    }\n",
       "\n",
       "    .dataframe tbody tr th {\n",
       "        vertical-align: top;\n",
       "    }\n",
       "\n",
       "    .dataframe thead th {\n",
       "        text-align: right;\n",
       "    }\n",
       "</style>\n",
       "<table border=\"1\" class=\"dataframe\">\n",
       "  <thead>\n",
       "    <tr style=\"text-align: right;\">\n",
       "      <th></th>\n",
       "      <th>Skew</th>\n",
       "    </tr>\n",
       "  </thead>\n",
       "  <tbody>\n",
       "    <tr>\n",
       "      <th>bmi</th>\n",
       "      <td>1.377260</td>\n",
       "    </tr>\n",
       "    <tr>\n",
       "      <th>weight</th>\n",
       "      <td>0.988405</td>\n",
       "    </tr>\n",
       "    <tr>\n",
       "      <th>ap_hi</th>\n",
       "      <td>0.933976</td>\n",
       "    </tr>\n",
       "    <tr>\n",
       "      <th>ap_lo</th>\n",
       "      <td>0.359565</td>\n",
       "    </tr>\n",
       "    <tr>\n",
       "      <th>height</th>\n",
       "      <td>-0.114360</td>\n",
       "    </tr>\n",
       "    <tr>\n",
       "      <th>age</th>\n",
       "      <td>-0.306133</td>\n",
       "    </tr>\n",
       "  </tbody>\n",
       "</table>\n",
       "</div>"
      ],
      "text/plain": [
       "            Skew\n",
       "bmi     1.377260\n",
       "weight  0.988405\n",
       "ap_hi   0.933976\n",
       "ap_lo   0.359565\n",
       "height -0.114360\n",
       "age    -0.306133"
      ]
     },
     "execution_count": 29,
     "metadata": {},
     "output_type": "execute_result"
    }
   ],
   "source": [
    "skewness = pd.DataFrame({'Skew' :skew_features})\n",
    "skewness"
   ]
  },
  {
   "cell_type": "code",
   "execution_count": 30,
   "metadata": {},
   "outputs": [
    {
     "data": {
      "text/plain": [
       "bmi       1.377260\n",
       "weight    0.988405\n",
       "ap_hi     0.933976\n",
       "dtype: float64"
      ]
     },
     "execution_count": 30,
     "metadata": {},
     "output_type": "execute_result"
    }
   ],
   "source": [
    "high_skew"
   ]
  },
  {
   "cell_type": "code",
   "execution_count": 31,
   "metadata": {},
   "outputs": [],
   "source": [
    "# boxcox_normmax = Compute optimal Box-Cox transform parameter for input data.\n",
    "for features in high_skew.index:\n",
    "    df[features]= boxcox1p(df[features],  boxcox_normmax(df[features] + 1))"
   ]
  },
  {
   "cell_type": "code",
   "execution_count": 32,
   "metadata": {},
   "outputs": [
    {
     "data": {
      "text/plain": [
       "<matplotlib.axes._subplots.AxesSubplot at 0x7f6123d88668>"
      ]
     },
     "execution_count": 32,
     "metadata": {},
     "output_type": "execute_result"
    },
    {
     "data": {
      "image/png": "[encoded data removed]",
      "text/plain": [
       "<Figure size 432x288 with 1 Axes>"
      ]
     },
     "metadata": {
      "needs_background": "light"
     },
     "output_type": "display_data"
    }
   ],
   "source": [
    "sns.distplot(df.bmi)"
   ]
  },
  {
   "cell_type": "markdown",
   "metadata": {},
   "source": [
    "### Encoding"
   ]
  },
  {
   "cell_type": "code",
   "execution_count": 33,
   "metadata": {},
   "outputs": [
    {
     "data": {
      "text/html": [
       "<div>\n",
       "<style scoped>\n",
       "    .dataframe tbody tr th:only-of-type {\n",
       "        vertical-align: middle;\n",
       "    }\n",
       "\n",
       "    .dataframe tbody tr th {\n",
       "        vertical-align: top;\n",
       "    }\n",
       "\n",
       "    .dataframe thead th {\n",
       "        text-align: right;\n",
       "    }\n",
       "</style>\n",
       "<table border=\"1\" class=\"dataframe\">\n",
       "  <thead>\n",
       "    <tr style=\"text-align: right;\">\n",
       "      <th></th>\n",
       "      <th>id</th>\n",
       "      <th>age</th>\n",
       "      <th>gender</th>\n",
       "      <th>height</th>\n",
       "      <th>weight</th>\n",
       "      <th>ap_hi</th>\n",
       "      <th>ap_lo</th>\n",
       "      <th>cholesterol</th>\n",
       "      <th>gluc</th>\n",
       "      <th>smoke</th>\n",
       "      <th>alco</th>\n",
       "      <th>active</th>\n",
       "      <th>cardio</th>\n",
       "      <th>bmi</th>\n",
       "    </tr>\n",
       "  </thead>\n",
       "  <tbody>\n",
       "    <tr>\n",
       "      <th>0</th>\n",
       "      <td>0</td>\n",
       "      <td>50.4</td>\n",
       "      <td>F</td>\n",
       "      <td>168</td>\n",
       "      <td>2.154936</td>\n",
       "      <td>1.499670</td>\n",
       "      <td>80</td>\n",
       "      <td>normal</td>\n",
       "      <td>normal</td>\n",
       "      <td>No</td>\n",
       "      <td>No</td>\n",
       "      <td>Yes</td>\n",
       "      <td>0</td>\n",
       "      <td>0.987265</td>\n",
       "    </tr>\n",
       "    <tr>\n",
       "      <th>1</th>\n",
       "      <td>1</td>\n",
       "      <td>55.4</td>\n",
       "      <td>M</td>\n",
       "      <td>156</td>\n",
       "      <td>2.221375</td>\n",
       "      <td>1.510934</td>\n",
       "      <td>90</td>\n",
       "      <td>well above normal</td>\n",
       "      <td>normal</td>\n",
       "      <td>No</td>\n",
       "      <td>No</td>\n",
       "      <td>Yes</td>\n",
       "      <td>1</td>\n",
       "      <td>1.004914</td>\n",
       "    </tr>\n",
       "  </tbody>\n",
       "</table>\n",
       "</div>"
      ],
      "text/plain": [
       "   id   age gender  height    weight     ap_hi  ap_lo        cholesterol  \\\n",
       "0   0  50.4      F     168  2.154936  1.499670     80             normal   \n",
       "1   1  55.4      M     156  2.221375  1.510934     90  well above normal   \n",
       "\n",
       "     gluc smoke alco active  cardio       bmi  \n",
       "0  normal    No   No    Yes       0  0.987265  \n",
       "1  normal    No   No    Yes       1  1.004914  "
      ]
     },
     "execution_count": 33,
     "metadata": {},
     "output_type": "execute_result"
    }
   ],
   "source": [
    "df.head(2)"
   ]
  },
  {
   "cell_type": "code",
   "execution_count": 34,
   "metadata": {},
   "outputs": [
    {
     "data": {
      "text/plain": [
       "id               int64\n",
       "age            float64\n",
       "gender          object\n",
       "height           int64\n",
       "weight         float64\n",
       "ap_hi          float64\n",
       "ap_lo            int64\n",
       "cholesterol     object\n",
       "gluc            object\n",
       "smoke           object\n",
       "alco            object\n",
       "active          object\n",
       "cardio           int64\n",
       "bmi            float64\n",
       "dtype: object"
      ]
     },
     "execution_count": 34,
     "metadata": {},
     "output_type": "execute_result"
    }
   ],
   "source": [
    "df.dtypes"
   ]
  },
  {
   "cell_type": "markdown",
   "metadata": {},
   "source": [
    "#### One-hot encoding"
   ]
  },
  {
   "cell_type": "code",
   "execution_count": 35,
   "metadata": {},
   "outputs": [],
   "source": [
    "#One hot encoding\n",
    "def one_hot_encoding(dataset, feature):\n",
    "    dummy_dataset = pd.get_dummies(dataset[[feature]])\n",
    "    encode_dataset = pd.concat([dataset, dummy_dataset], axis=1)\n",
    "    encode_dataset = encode_dataset.drop([feature], axis=1)\n",
    "    return(encode_dataset)"
   ]
  },
  {
   "cell_type": "code",
   "execution_count": 36,
   "metadata": {},
   "outputs": [
    {
     "data": {
      "text/plain": [
       "(68645, 22)"
      ]
     },
     "execution_count": 36,
     "metadata": {},
     "output_type": "execute_result"
    }
   ],
   "source": [
    "encoding_features = ['gender','cholesterol','gluc','smoke','alco','active']\n",
    "for feature in encoding_features:\n",
    "    df = one_hot_encoding(df, feature)\n",
    "df.shape"
   ]
  },
  {
   "cell_type": "code",
   "execution_count": 37,
   "metadata": {},
   "outputs": [
    {
     "data": {
      "text/html": [
       "<div>\n",
       "<style scoped>\n",
       "    .dataframe tbody tr th:only-of-type {\n",
       "        vertical-align: middle;\n",
       "    }\n",
       "\n",
       "    .dataframe tbody tr th {\n",
       "        vertical-align: top;\n",
       "    }\n",
       "\n",
       "    .dataframe thead th {\n",
       "        text-align: right;\n",
       "    }\n",
       "</style>\n",
       "<table border=\"1\" class=\"dataframe\">\n",
       "  <thead>\n",
       "    <tr style=\"text-align: right;\">\n",
       "      <th></th>\n",
       "      <th>id</th>\n",
       "      <th>age</th>\n",
       "      <th>height</th>\n",
       "      <th>weight</th>\n",
       "      <th>ap_hi</th>\n",
       "      <th>ap_lo</th>\n",
       "      <th>cardio</th>\n",
       "      <th>bmi</th>\n",
       "      <th>gender_F</th>\n",
       "      <th>gender_M</th>\n",
       "      <th>cholesterol_above normal</th>\n",
       "      <th>cholesterol_normal</th>\n",
       "      <th>cholesterol_well above normal</th>\n",
       "      <th>gluc_above normal</th>\n",
       "      <th>gluc_normal</th>\n",
       "      <th>gluc_well above normal</th>\n",
       "      <th>smoke_No</th>\n",
       "      <th>smoke_Yes</th>\n",
       "      <th>alco_No</th>\n",
       "      <th>alco_Yes</th>\n",
       "      <th>active_No</th>\n",
       "      <th>active_Yes</th>\n",
       "    </tr>\n",
       "  </thead>\n",
       "  <tbody>\n",
       "    <tr>\n",
       "      <th>0</th>\n",
       "      <td>0</td>\n",
       "      <td>50.4</td>\n",
       "      <td>168</td>\n",
       "      <td>2.154936</td>\n",
       "      <td>1.499670</td>\n",
       "      <td>80</td>\n",
       "      <td>0</td>\n",
       "      <td>0.987265</td>\n",
       "      <td>1</td>\n",
       "      <td>0</td>\n",
       "      <td>0</td>\n",
       "      <td>1</td>\n",
       "      <td>0</td>\n",
       "      <td>0</td>\n",
       "      <td>1</td>\n",
       "      <td>0</td>\n",
       "      <td>1</td>\n",
       "      <td>0</td>\n",
       "      <td>1</td>\n",
       "      <td>0</td>\n",
       "      <td>0</td>\n",
       "      <td>1</td>\n",
       "    </tr>\n",
       "    <tr>\n",
       "      <th>1</th>\n",
       "      <td>1</td>\n",
       "      <td>55.4</td>\n",
       "      <td>156</td>\n",
       "      <td>2.221375</td>\n",
       "      <td>1.510934</td>\n",
       "      <td>90</td>\n",
       "      <td>1</td>\n",
       "      <td>1.004914</td>\n",
       "      <td>0</td>\n",
       "      <td>1</td>\n",
       "      <td>0</td>\n",
       "      <td>0</td>\n",
       "      <td>1</td>\n",
       "      <td>0</td>\n",
       "      <td>1</td>\n",
       "      <td>0</td>\n",
       "      <td>1</td>\n",
       "      <td>0</td>\n",
       "      <td>1</td>\n",
       "      <td>0</td>\n",
       "      <td>0</td>\n",
       "      <td>1</td>\n",
       "    </tr>\n",
       "  </tbody>\n",
       "</table>\n",
       "</div>"
      ],
      "text/plain": [
       "   id   age  height    weight     ap_hi  ap_lo  cardio       bmi  gender_F  \\\n",
       "0   0  50.4     168  2.154936  1.499670     80       0  0.987265         1   \n",
       "1   1  55.4     156  2.221375  1.510934     90       1  1.004914         0   \n",
       "\n",
       "   gender_M  cholesterol_above normal  cholesterol_normal  \\\n",
       "0         0                         0                   1   \n",
       "1         1                         0                   0   \n",
       "\n",
       "   cholesterol_well above normal  gluc_above normal  gluc_normal  \\\n",
       "0                              0                  0            1   \n",
       "1                              1                  0            1   \n",
       "\n",
       "   gluc_well above normal  smoke_No  smoke_Yes  alco_No  alco_Yes  active_No  \\\n",
       "0                       0         1          0        1         0          0   \n",
       "1                       0         1          0        1         0          0   \n",
       "\n",
       "   active_Yes  \n",
       "0           1  \n",
       "1           1  "
      ]
     },
     "execution_count": 37,
     "metadata": {},
     "output_type": "execute_result"
    }
   ],
   "source": [
    "df.head(2)"
   ]
  },
  {
   "cell_type": "markdown",
   "metadata": {},
   "source": [
    "### Standarazition"
   ]
  },
  {
   "cell_type": "code",
   "execution_count": 38,
   "metadata": {},
   "outputs": [
    {
     "data": {
      "text/plain": [
       "Index(['age', 'height', 'weight', 'ap_hi', 'ap_lo', 'bmi'], dtype='object')"
      ]
     },
     "execution_count": 38,
     "metadata": {},
     "output_type": "execute_result"
    }
   ],
   "source": [
    "df_numerical_data.columns"
   ]
  },
  {
   "cell_type": "code",
   "execution_count": 39,
   "metadata": {},
   "outputs": [],
   "source": [
    "df = df.drop(['id'], axis=1)"
   ]
  },
  {
   "cell_type": "code",
   "execution_count": 40,
   "metadata": {},
   "outputs": [],
   "source": [
    "from sklearn.model_selection import train_test_split\n",
    "X_train, X_test, y_train, y_test = train_test_split(df.drop('cardio',axis=1),df.cardio,test_size=0.30, random_state=42)"
   ]
  },
  {
   "cell_type": "code",
   "execution_count": 41,
   "metadata": {},
   "outputs": [],
   "source": [
    "to_be_scaled_feat = ['age','height','weight', 'ap_hi', 'ap_lo','bmi']\n",
    "other_feat = ['gender_F', 'gender_M', 'cholesterol_above normal',\n",
    "       'cholesterol_normal', 'cholesterol_well above normal',\n",
    "       'gluc_above normal', 'gluc_normal', 'gluc_well above normal',\n",
    "       'smoke_No', 'smoke_Yes', 'alco_No', 'alco_Yes', 'active_No',\n",
    "       'active_Yes']"
   ]
  },
  {
   "cell_type": "code",
   "execution_count": 42,
   "metadata": {},
   "outputs": [],
   "source": [
    "from sklearn.preprocessing import StandardScaler\n",
    "\n",
    "scaler=StandardScaler()\n",
    "\n",
    "scaler.fit(X_train[to_be_scaled_feat])\n",
    "\n",
    "X_train[to_be_scaled_feat] = scaler.transform(X_train[to_be_scaled_feat])\n",
    "X_test[to_be_scaled_feat] = scaler.transform(X_test[to_be_scaled_feat])"
   ]
  },
  {
   "cell_type": "code",
   "execution_count": 43,
   "metadata": {},
   "outputs": [
    {
     "data": {
      "text/html": [
       "<div>\n",
       "<style scoped>\n",
       "    .dataframe tbody tr th:only-of-type {\n",
       "        vertical-align: middle;\n",
       "    }\n",
       "\n",
       "    .dataframe tbody tr th {\n",
       "        vertical-align: top;\n",
       "    }\n",
       "\n",
       "    .dataframe thead th {\n",
       "        text-align: right;\n",
       "    }\n",
       "</style>\n",
       "<table border=\"1\" class=\"dataframe\">\n",
       "  <thead>\n",
       "    <tr style=\"text-align: right;\">\n",
       "      <th></th>\n",
       "      <th>age</th>\n",
       "      <th>height</th>\n",
       "      <th>weight</th>\n",
       "      <th>ap_hi</th>\n",
       "      <th>ap_lo</th>\n",
       "      <th>bmi</th>\n",
       "      <th>gender_F</th>\n",
       "      <th>gender_M</th>\n",
       "      <th>cholesterol_above normal</th>\n",
       "      <th>cholesterol_normal</th>\n",
       "      <th>cholesterol_well above normal</th>\n",
       "      <th>gluc_above normal</th>\n",
       "      <th>gluc_normal</th>\n",
       "      <th>gluc_well above normal</th>\n",
       "      <th>smoke_No</th>\n",
       "      <th>smoke_Yes</th>\n",
       "      <th>alco_No</th>\n",
       "      <th>alco_Yes</th>\n",
       "      <th>active_No</th>\n",
       "      <th>active_Yes</th>\n",
       "    </tr>\n",
       "  </thead>\n",
       "  <tbody>\n",
       "    <tr>\n",
       "      <th>532</th>\n",
       "      <td>-1.107522</td>\n",
       "      <td>0.576735</td>\n",
       "      <td>0.044188</td>\n",
       "      <td>-0.327016</td>\n",
       "      <td>-0.134423</td>\n",
       "      <td>-0.231948</td>\n",
       "      <td>0</td>\n",
       "      <td>1</td>\n",
       "      <td>0</td>\n",
       "      <td>1</td>\n",
       "      <td>0</td>\n",
       "      <td>0</td>\n",
       "      <td>1</td>\n",
       "      <td>0</td>\n",
       "      <td>1</td>\n",
       "      <td>0</td>\n",
       "      <td>1</td>\n",
       "      <td>0</td>\n",
       "      <td>1</td>\n",
       "      <td>0</td>\n",
       "    </tr>\n",
       "    <tr>\n",
       "      <th>16830</th>\n",
       "      <td>-0.411979</td>\n",
       "      <td>2.203742</td>\n",
       "      <td>1.702748</td>\n",
       "      <td>0.311608</td>\n",
       "      <td>-0.134423</td>\n",
       "      <td>0.734300</td>\n",
       "      <td>1</td>\n",
       "      <td>0</td>\n",
       "      <td>0</td>\n",
       "      <td>1</td>\n",
       "      <td>0</td>\n",
       "      <td>0</td>\n",
       "      <td>1</td>\n",
       "      <td>0</td>\n",
       "      <td>1</td>\n",
       "      <td>0</td>\n",
       "      <td>1</td>\n",
       "      <td>0</td>\n",
       "      <td>0</td>\n",
       "      <td>1</td>\n",
       "    </tr>\n",
       "  </tbody>\n",
       "</table>\n",
       "</div>"
      ],
      "text/plain": [
       "            age    height    weight     ap_hi     ap_lo       bmi  gender_F  \\\n",
       "532   -1.107522  0.576735  0.044188 -0.327016 -0.134423 -0.231948         0   \n",
       "16830 -0.411979  2.203742  1.702748  0.311608 -0.134423  0.734300         1   \n",
       "\n",
       "       gender_M  cholesterol_above normal  cholesterol_normal  \\\n",
       "532           1                         0                   1   \n",
       "16830         0                         0                   1   \n",
       "\n",
       "       cholesterol_well above normal  gluc_above normal  gluc_normal  \\\n",
       "532                                0                  0            1   \n",
       "16830                              0                  0            1   \n",
       "\n",
       "       gluc_well above normal  smoke_No  smoke_Yes  alco_No  alco_Yes  \\\n",
       "532                         0         1          0        1         0   \n",
       "16830                       0         1          0        1         0   \n",
       "\n",
       "       active_No  active_Yes  \n",
       "532            1           0  \n",
       "16830          0           1  "
      ]
     },
     "execution_count": 43,
     "metadata": {},
     "output_type": "execute_result"
    }
   ],
   "source": [
    "X_train.head(2)"
   ]
  },
  {
   "cell_type": "markdown",
   "metadata": {},
   "source": [
    "# 4. Azure ML Workspace Configuration"
   ]
  },
  {
   "cell_type": "code",
   "execution_count": 44,
   "metadata": {},
   "outputs": [
    {
     "name": "stderr",
     "output_type": "stream",
     "text": [
      "Failure while loading azureml_run_type_providers. Failed to load entrypoint automl = azureml.train.automl.run:AutoMLRun._from_run_dto with exception (portalocker 2.0.0 (/anaconda/envs/azureml_py36/lib/python3.6/site-packages), Requirement.parse('portalocker~=1.0'), {'msal-extensions'}).\n"
     ]
    }
   ],
   "source": [
    "from azureml.core import Workspace\n",
    "ws = Workspace.from_config()"
   ]
  },
  {
   "cell_type": "code",
   "execution_count": 45,
   "metadata": {},
   "outputs": [],
   "source": [
    "from azureml.core import Experiment\n",
    "experiment = Experiment(workspace=ws, name=\"cardiovascular-experiment\")"
   ]
  },
  {
   "cell_type": "code",
   "execution_count": 46,
   "metadata": {},
   "outputs": [
    {
     "data": {
      "text/plain": [
       "'\\nfor i in experiment.get_runs():\\n    i.complete()\\nexperiment.archive()\\n'"
      ]
     },
     "execution_count": 46,
     "metadata": {},
     "output_type": "execute_result"
    }
   ],
   "source": [
    "\"\"\"\n",
    "for i in experiment.get_runs():\n",
    "    i.complete()\n",
    "experiment.archive()\n",
    "\"\"\""
   ]
  },
  {
   "cell_type": "markdown",
   "metadata": {},
   "source": [
    "# 5. Model Building"
   ]
  },
  {
   "cell_type": "code",
   "execution_count": 47,
   "metadata": {},
   "outputs": [],
   "source": [
    "from sklearn.metrics import roc_auc_score,accuracy_score\n",
    "from sklearn.externals import joblib\n",
    "from sklearn.linear_model import LogisticRegression\n",
    "from sklearn.tree import DecisionTreeClassifier\n",
    "from sklearn.ensemble import RandomForestClassifier\n",
    "from sklearn.model_selection import GridSearchCV\n",
    "from sklearn.svm import SVC"
   ]
  },
  {
   "cell_type": "code",
   "execution_count": 48,
   "metadata": {},
   "outputs": [
    {
     "name": "stdout",
     "output_type": "stream",
     "text": [
      "XGBM– 0.7997297166479319\n"
     ]
    }
   ],
   "source": [
    "run = experiment.start_logging(snapshot_directory=None)\n",
    "run.log(\"model_type\", \"XGB\")\n",
    "\n",
    "model_xgb= XGBClassifier(colsample_bytree = 0.3,\n",
    "                        learning_rate = 0.03,\n",
    "                        max_depth = 5,\n",
    "                        min_child_weight = 5, \n",
    "                        n_estimators = 500,\n",
    "                        objective ='binary:logistic',\n",
    "                        metric = 'auc')\n",
    "\n",
    "model_xgb.fit(X_train, y_train)\n",
    "#y_pred_xgbm = model_xgb.predict(X_test)\n",
    "y_pred_xgbm = model_xgb.predict_proba(X_test)[:, 1]\n",
    "print('XGBM– ' + str(roc_auc_score(y_test, y_pred_xgbm)))\n",
    "run.log(\"AUC\", roc_auc_score(y_test, y_pred_xgbm))\n",
    "\n",
    "model_name = \"model_xgb.pkl\"\n",
    "filename = \"outputs/\" + model_name\n",
    "joblib.dump(value=model_xgb, filename=filename)\n",
    "run.upload_file(name=model_name, path_or_stream=filename)\n",
    "run.complete()"
   ]
  },
  {
   "cell_type": "code",
   "execution_count": 49,
   "metadata": {
    "scrolled": true
   },
   "outputs": [
    {
     "name": "stdout",
     "output_type": "stream",
     "text": [
      "LGBM– 0.7998037353567831\n"
     ]
    }
   ],
   "source": [
    "run = experiment.start_logging(snapshot_directory=None)\n",
    "run.log(\"model_type\", \"LightGBM\")\n",
    "\n",
    "params = {\n",
    "    'task': 'train',\n",
    "    'boosting_type': 'gbdt',\n",
    "    'objective': 'binary',\n",
    "    'metric': { 'AUC' },\n",
    "    'num_leaves': 32,#50\n",
    "    'max_depth': 3,#3\n",
    "    'min_data_in_leaf': 30,#4000\n",
    "    'bagging_freq': 1,\n",
    "    'feature_fraction': 0.7,\n",
    "    'verbose': 1,\n",
    "    'is_unbalance':True,\n",
    "    'learning_rate': 0.005,#0.01\n",
    "    'bagging_fraction': 0.9,\n",
    "}\n",
    "\n",
    "train_set = lgb.Dataset(X_train, y_train)\n",
    "validation_sets = lgb.Dataset(X_test, y_test, reference=train_set)\n",
    "\n",
    "model_lgbm = lgb.train(\n",
    "    params,\n",
    "    train_set,\n",
    "    num_boost_round=10000,\n",
    "    valid_sets=validation_sets,\n",
    "    early_stopping_rounds=500,\n",
    "    verbose_eval=False\n",
    "    )\n",
    "\n",
    "y_pred_lgbm = model_lgbm.predict(X_test)\n",
    "print('LGBM– ' + str(roc_auc_score(y_test, y_pred_lgbm)))\n",
    "run.log(\"AUC\", roc_auc_score(y_test, y_pred_lgbm))\n",
    "\n",
    "model_name = \"model_lgbm.pkl\"\n",
    "filename = \"outputs/\" + model_name\n",
    "joblib.dump(value=model_lgbm, filename=filename)\n",
    "run.upload_file(name=model_name, path_or_stream=filename)\n",
    "run.complete()"
   ]
  },
  {
   "cell_type": "code",
   "execution_count": 50,
   "metadata": {},
   "outputs": [
    {
     "name": "stdout",
     "output_type": "stream",
     "text": [
      "GBR– 0.7997802602591364\n"
     ]
    }
   ],
   "source": [
    "run = experiment.start_logging(snapshot_directory=None)\n",
    "run.log(\"model_type\", \"GradientBoosting\")\n",
    "\n",
    "model_gbr= GradientBoostingClassifier(learning_rate=0.01, \n",
    "                                     max_depth=6, \n",
    "                                     max_features=0.1,\n",
    "                                     min_samples_leaf=30, \n",
    "                                     n_estimators=1000)\n",
    "model_gbr.fit(X_train, y_train)\n",
    "#y_pred_gbr = model_gbr.predict(X_test)\n",
    "y_pred_gbr = model_gbr.predict_proba(X_test)[:, 1]\n",
    "print('GBR– ' + str(roc_auc_score(y_test, y_pred_gbr)))\n",
    "run.log(\"AUC\", roc_auc_score(y_test, y_pred_gbr))\n",
    "\n",
    "model_name = \"model_gbr.pkl\"\n",
    "filename = \"outputs/\" + model_name\n",
    "joblib.dump(value=model_gbr, filename=filename)\n",
    "run.upload_file(name=model_name, path_or_stream=filename)\n",
    "run.complete()"
   ]
  },
  {
   "cell_type": "code",
   "execution_count": 51,
   "metadata": {},
   "outputs": [
    {
     "name": "stdout",
     "output_type": "stream",
     "text": [
      "LogReg– 0.785985542131585\n"
     ]
    }
   ],
   "source": [
    "run = experiment.start_logging(snapshot_directory=None)\n",
    "run.log(\"model_type\", \"LogisticRegression\")\n",
    "\n",
    "model_log = LogisticRegression()\n",
    "model_log.fit(X_train, y_train)\n",
    "#y_pred_log = model_log.predict(X_test)\n",
    "y_pred_log = model_log.predict_proba(X_test)[:, 1]\n",
    "print('LogReg– ' + str(roc_auc_score(y_test, y_pred_log)))\n",
    "run.log(\"AUC\", roc_auc_score(y_test, y_pred_log))\n",
    "\n",
    "model_name = \"model_log.pkl\"\n",
    "filename = \"outputs/\" + model_name\n",
    "joblib.dump(value=model_log, filename=filename)\n",
    "run.upload_file(name=model_name, path_or_stream=filename)\n",
    "run.complete()"
   ]
  },
  {
   "cell_type": "code",
   "execution_count": 52,
   "metadata": {},
   "outputs": [
    {
     "name": "stdout",
     "output_type": "stream",
     "text": [
      "DecTree– 0.6296967360692037\n"
     ]
    }
   ],
   "source": [
    "run = experiment.start_logging(snapshot_directory=None)\n",
    "run.log(\"model_type\", \"DecisionTree\")\n",
    "\n",
    "model_dt = DecisionTreeClassifier()\n",
    "model_dt.fit(X_train, y_train)\n",
    "#y_pred_dt = model_dt.predict(X_test)\n",
    "y_pred_dt = model_dt.predict_proba(X_test)[:, 1]\n",
    "print('DecTree– ' + str(roc_auc_score(y_test, y_pred_dt)))\n",
    "run.log(\"AUC\", roc_auc_score(y_test, y_pred_dt))\n",
    "\n",
    "model_name = \"model_dt.pkl\"\n",
    "filename = \"outputs/\" + model_name\n",
    "joblib.dump(value=model_dt, filename=filename)\n",
    "run.upload_file(name=model_name, path_or_stream=filename)\n",
    "run.complete()"
   ]
  },
  {
   "cell_type": "code",
   "execution_count": 53,
   "metadata": {},
   "outputs": [
    {
     "name": "stdout",
     "output_type": "stream",
     "text": [
      "{'max_depth': 90, 'max_features': 3, 'min_samples_leaf': 4, 'min_samples_split': 10, 'n_estimators': 100}\n",
      "RandomForest– 0.7939900929994901\n"
     ]
    }
   ],
   "source": [
    "run = experiment.start_logging(snapshot_directory=None)\n",
    "run.log(\"model_type\", \"Random Forest\")\n",
    "\n",
    "param_grid = {'max_depth': [80, 90],\n",
    "    'max_features': [2, 3],\n",
    "    'min_samples_leaf': [3, 4],\n",
    "    'min_samples_split': [8, 10],\n",
    "    'n_estimators': [100, 200]}\n",
    "model_rf = GridSearchCV(RandomForestClassifier(),param_grid,verbose=0,n_jobs=-1)\n",
    "model_rf.fit(X_train,y_train)\n",
    "best_parameters = model_rf.best_params_\n",
    "print(best_parameters)\n",
    "#y_pred_rf = model_rf.predict(X_test)\n",
    "y_pred_rf = model_rf.predict_proba(X_test)[:, 1]\n",
    "print('RandomForest– ' + str(roc_auc_score(y_test, y_pred_rf)))\n",
    "run.log(\"AUC\", roc_auc_score(y_test, y_pred_rf))\n",
    "\n",
    "model_name = \"model_rf.pkl\"\n",
    "filename = \"outputs/\" + model_name\n",
    "joblib.dump(value=model_rf, filename=filename)\n",
    "run.upload_file(name=model_name, path_or_stream=filename)\n",
    "run.complete()"
   ]
  },
  {
   "cell_type": "code",
   "execution_count": 54,
   "metadata": {},
   "outputs": [
    {
     "name": "stdout",
     "output_type": "stream",
     "text": [
      "SVC– 0.7893707757085235\n"
     ]
    }
   ],
   "source": [
    "run = experiment.start_logging(snapshot_directory=None)\n",
    "run.log(\"model_type\", \"SVC\")\n",
    "\n",
    "model_svc = SVC(probability=True)\n",
    "model_svc.fit(X_train, y_train)\n",
    "#y_pred_svc = model_svc.predict(X_test)\n",
    "y_pred_svc = model_svc.predict_proba(X_test)[:, 1]\n",
    "print('SVC– ' + str(roc_auc_score(y_test, y_pred_svc)))\n",
    "run.log(\"AUC\", roc_auc_score(y_test, y_pred_svc))\n",
    "\n",
    "model_name = \"model_svc.pkl\"\n",
    "filename = \"outputs/\" + model_name\n",
    "joblib.dump(value=model_svc, filename=filename)\n",
    "run.upload_file(name=model_name, path_or_stream=filename)\n",
    "run.complete()"
   ]
  },
  {
   "cell_type": "code",
   "execution_count": 55,
   "metadata": {},
   "outputs": [
    {
     "name": "stdout",
     "output_type": "stream",
     "text": [
      "STACK MODEL– 0.7998259560598988\n"
     ]
    }
   ],
   "source": [
    "run = experiment.start_logging(snapshot_directory=None)\n",
    "run.log(\"model_type\", \"Stacking\")\n",
    "\n",
    "stack = StackingCVClassifier(classifiers=(model_xgb, model_gbr,model_log, model_rf,model_svc),\n",
    "                            meta_classifier=model_xgb, use_features_in_secondary=True,n_jobs=-1)\n",
    "stack_model = stack.fit(X_train.values, y_train.values)\n",
    "print('STACK MODEL– ' + str(roc_auc_score(y_test, stack_model.predict_proba(X_test.values)[:, 1])))\n",
    "run.log(\"AUC\", roc_auc_score(y_test, stack_model.predict_proba(X_test.values)[:, 1]))\n",
    "\n",
    "model_name = \"stack_model.pkl\"\n",
    "filename = \"outputs/\" + model_name\n",
    "joblib.dump(value=stack_model, filename=filename)\n",
    "run.upload_file(name=model_name, path_or_stream=filename)\n",
    "run.complete()"
   ]
  },
  {
   "cell_type": "code",
   "execution_count": 56,
   "metadata": {},
   "outputs": [
    {
     "name": "stdout",
     "output_type": "stream",
     "text": [
      "Mixed MODEL– 0.8001945311265648\n"
     ]
    }
   ],
   "source": [
    "run = experiment.start_logging(snapshot_directory=None)\n",
    "run.log(\"model_type\", \"Mixing Models\")\n",
    "\n",
    "def mixing_models_predict(X): return ((0.05 * model_xgb.predict_proba(X)[:, 1]) + \n",
    "                                     (0.5 * model_lgbm.predict(X)) + \n",
    "                                     (0.05 * model_gbr.predict_proba(X)[:, 1]) +  \n",
    "                                     (0.05 * model_log.predict_proba(X)[:, 1]) + \n",
    "                                     #(0.1 * model_dt.predict_proba(X)[:, 1]) +\n",
    "                                     (0.05 * model_rf.predict_proba(X)[:, 1]) +\n",
    "                                     (0.05 * model_svc.predict_proba(X)[:, 1]) +\n",
    "                                     (0.25 * stack_model.predict_proba(X.values)[:, 1]))\n",
    "y_pred_mix = mixing_models_predict(X_test)\n",
    "print('Mixed MODEL– ' + str(roc_auc_score(y_test, y_pred_mix)))\n",
    "run.log(\"AUC\", roc_auc_score(y_test, y_pred_mix))\n",
    "\n",
    "#model_name = \"stack_model.pkl\"\n",
    "#filename = \"outputs/\" + model_name\n",
    "#joblib.dump(value=stack_model, filename=filename)\n",
    "#run.upload_file(name=model_name, path_or_stream=filename)\n",
    "run.complete()"
   ]
  },
  {
   "cell_type": "code",
   "execution_count": 57,
   "metadata": {},
   "outputs": [
    {
     "name": "stdout",
     "output_type": "stream",
     "text": [
      "AUC\n",
      "XGB– 0.7997297166479319\n",
      "LGBM– 0.7998037353567831\n",
      "GBR– 0.7997802602591364\n",
      "LogReg– 0.785985542131585\n",
      "DecTree– 0.6296967360692037\n",
      "RandomForest– 0.7939900929994901\n",
      "SVC– 0.7893707757085235\n",
      "STACK MODEL– 0.7998259560598988\n",
      "Mixed MODEL– 0.8001945311265648\n"
     ]
    }
   ],
   "source": [
    "print(\"AUC\")\n",
    "print('XGB– ' + str(roc_auc_score(y_test, y_pred_xgbm)))\n",
    "print('LGBM– ' + str(roc_auc_score(y_test, y_pred_lgbm)))\n",
    "print('GBR– ' + str(roc_auc_score(y_test, y_pred_gbr)))\n",
    "print('LogReg– ' + str(roc_auc_score(y_test, y_pred_log)))\n",
    "print('DecTree– ' + str(roc_auc_score(y_test, y_pred_dt)))\n",
    "print('RandomForest– ' + str(roc_auc_score(y_test, y_pred_rf)))\n",
    "print('SVC– ' + str(roc_auc_score(y_test, y_pred_svc)))\n",
    "print('STACK MODEL– ' + str(roc_auc_score(y_test, stack_model.predict_proba(X_test.values)[:, 1])))\n",
    "print('Mixed MODEL– ' + str(roc_auc_score(y_test, y_pred_mix)))"
   ]
  },
  {
   "cell_type": "markdown",
   "metadata": {},
   "source": [
    "We can see the Mixed Model is the model with the highest  AUC"
   ]
  },
  {
   "cell_type": "code",
   "execution_count": 58,
   "metadata": {},
   "outputs": [],
   "source": [
    "def mixing_models_predict_int(X): return (((0.05 * model_xgb.predict(X)) + \n",
    "                                     (0.5 * (model_lgbm.predict(X) >= 0.5)*1.0) + \n",
    "                                     (0.05 * model_gbr.predict(X)) +  \n",
    "                                     (0.05 * model_log.predict(X)) + \n",
    "                                     #(0.1 * model_dt.predict(X)) +\n",
    "                                     (0.05 * model_rf.predict(X)) +\n",
    "                                     (0.05 * model_svc.predict(X)) +\n",
    "                                     (0.25 * stack_model.predict(X.values)))>= 0.5)*1.0\n",
    "y_pred_mix_int = mixing_models_predict_int(X_test)"
   ]
  },
  {
   "cell_type": "code",
   "execution_count": 59,
   "metadata": {},
   "outputs": [
    {
     "name": "stdout",
     "output_type": "stream",
     "text": [
      "ACCURACY\n",
      "XGBM– 0.7327376905894921\n",
      "LGBM– 0.7330290375837623\n",
      "GBR– 0.7315723026124114\n",
      "LogReg– 0.7247256482470622\n",
      "DecTree– 0.6296008546178499\n",
      "RandomForest– 0.7275420025250073\n",
      "SVC– 0.7290958531611149\n",
      "STACK MODEL– 0.7335631737399243\n",
      "Mixed MODEL– 0.7327862484218705\n"
     ]
    }
   ],
   "source": [
    "print(\"ACCURACY\")\n",
    "print('XGBM– ' + str(accuracy_score(y_test, model_xgb.predict(X_test))))\n",
    "print('LGBM– ' + str(accuracy_score(y_test, (model_lgbm.predict(X_test) >= 0.5)*1.0)))\n",
    "print('GBR– ' + str(accuracy_score(y_test, model_gbr.predict(X_test))))\n",
    "print('LogReg– ' + str(accuracy_score(y_test, model_log.predict(X_test))))\n",
    "print('DecTree– ' + str(accuracy_score(y_test, model_dt.predict(X_test))))\n",
    "print('RandomForest– ' + str(accuracy_score(y_test, model_rf.predict(X_test))))\n",
    "print('SVC– ' + str(accuracy_score(y_test, model_svc.predict(X_test))))\n",
    "print('STACK MODEL– ' + str(accuracy_score(y_test, stack_model.predict(X_test.values))))\n",
    "print('Mixed MODEL– ' + str(accuracy_score(y_test, y_pred_mix_int)))"
   ]
  },
  {
   "cell_type": "markdown",
   "metadata": {},
   "source": [
    "We can see the LightGBM Model is the model with the highest Accuracy"
   ]
  },
  {
   "cell_type": "markdown",
   "metadata": {},
   "source": [
    "✅ We can choose the LightGBM for production because is less complex in comparison of the Mixed Model"
   ]
  },
  {
   "cell_type": "code",
   "execution_count": 60,
   "metadata": {},
   "outputs": [],
   "source": [
    "from sklearn.metrics import (recall_score, accuracy_score, precision_score, auc, roc_curve, f1_score)\n",
    "def filter_threshold(probabilities, threshold):\n",
    "    return [1 if f >= threshold else 0 for f in probabilities]\n",
    "\n",
    "def get_threshold_measures_df(observed, probabilities, steps=0.05):\n",
    "    if isinstance(steps, float):\n",
    "        steps = np.arange(0, 1, steps)\n",
    "    df = pd.DataFrame(columns=['Punto de corte', 'N_Predicted', 'Recall', 'Accuracy', 'Precision','F1 score'])\n",
    "\n",
    "    for i in range(len(steps)):\n",
    "        estimated_threshold = filter_threshold(probabilities, steps[i])\n",
    "        row = [\n",
    "            steps[i],\n",
    "            sum(estimated_threshold),\n",
    "            recall_score(observed, estimated_threshold),\n",
    "            accuracy_score(observed, estimated_threshold),\n",
    "            precision_score(observed, estimated_threshold),\n",
    "            f1_score(observed, estimated_threshold),\n",
    "        ]\n",
    "        df.loc[i] = row\n",
    "\n",
    "    return df"
   ]
  },
  {
   "cell_type": "code",
   "execution_count": 61,
   "metadata": {},
   "outputs": [
    {
     "data": {
      "text/html": [
       "<div>\n",
       "<style scoped>\n",
       "    .dataframe tbody tr th:only-of-type {\n",
       "        vertical-align: middle;\n",
       "    }\n",
       "\n",
       "    .dataframe tbody tr th {\n",
       "        vertical-align: top;\n",
       "    }\n",
       "\n",
       "    .dataframe thead th {\n",
       "        text-align: right;\n",
       "    }\n",
       "</style>\n",
       "<table border=\"1\" class=\"dataframe\">\n",
       "  <thead>\n",
       "    <tr style=\"text-align: right;\">\n",
       "      <th></th>\n",
       "      <th>Punto de corte</th>\n",
       "      <th>N_Predicted</th>\n",
       "      <th>Recall</th>\n",
       "      <th>Accuracy</th>\n",
       "      <th>Precision</th>\n",
       "      <th>F1 score</th>\n",
       "    </tr>\n",
       "  </thead>\n",
       "  <tbody>\n",
       "    <tr>\n",
       "      <th>0</th>\n",
       "      <td>0.00</td>\n",
       "      <td>20594.0</td>\n",
       "      <td>1.000000</td>\n",
       "      <td>0.498495</td>\n",
       "      <td>0.498495</td>\n",
       "      <td>0.665327</td>\n",
       "    </tr>\n",
       "    <tr>\n",
       "      <th>1</th>\n",
       "      <td>0.05</td>\n",
       "      <td>20526.0</td>\n",
       "      <td>0.999805</td>\n",
       "      <td>0.501602</td>\n",
       "      <td>0.500049</td>\n",
       "      <td>0.666667</td>\n",
       "    </tr>\n",
       "    <tr>\n",
       "      <th>2</th>\n",
       "      <td>0.10</td>\n",
       "      <td>20006.0</td>\n",
       "      <td>0.995909</td>\n",
       "      <td>0.522968</td>\n",
       "      <td>0.511047</td>\n",
       "      <td>0.675476</td>\n",
       "    </tr>\n",
       "    <tr>\n",
       "      <th>3</th>\n",
       "      <td>0.15</td>\n",
       "      <td>19010.0</td>\n",
       "      <td>0.985681</td>\n",
       "      <td>0.561134</td>\n",
       "      <td>0.532299</td>\n",
       "      <td>0.691283</td>\n",
       "    </tr>\n",
       "    <tr>\n",
       "      <th>4</th>\n",
       "      <td>0.20</td>\n",
       "      <td>17800.0</td>\n",
       "      <td>0.966004</td>\n",
       "      <td>0.600272</td>\n",
       "      <td>0.557135</td>\n",
       "      <td>0.706691</td>\n",
       "    </tr>\n",
       "    <tr>\n",
       "      <th>5</th>\n",
       "      <td>0.25</td>\n",
       "      <td>16192.0</td>\n",
       "      <td>0.930158</td>\n",
       "      <td>0.642614</td>\n",
       "      <td>0.589736</td>\n",
       "      <td>0.721823</td>\n",
       "    </tr>\n",
       "    <tr>\n",
       "      <th>6</th>\n",
       "      <td>0.30</td>\n",
       "      <td>14477.0</td>\n",
       "      <td>0.884083</td>\n",
       "      <td>0.679955</td>\n",
       "      <td>0.626925</td>\n",
       "      <td>0.733622</td>\n",
       "    </tr>\n",
       "    <tr>\n",
       "      <th>7</th>\n",
       "      <td>0.35</td>\n",
       "      <td>12987.0</td>\n",
       "      <td>0.837327</td>\n",
       "      <td>0.705691</td>\n",
       "      <td>0.661893</td>\n",
       "      <td>0.739345</td>\n",
       "    </tr>\n",
       "    <tr>\n",
       "      <th>8</th>\n",
       "      <td>0.40</td>\n",
       "      <td>11449.0</td>\n",
       "      <td>0.780148</td>\n",
       "      <td>0.723366</td>\n",
       "      <td>0.699537</td>\n",
       "      <td>0.737647</td>\n",
       "    </tr>\n",
       "    <tr>\n",
       "      <th>9</th>\n",
       "      <td>0.45</td>\n",
       "      <td>10261.0</td>\n",
       "      <td>0.730470</td>\n",
       "      <td>0.731524</td>\n",
       "      <td>0.730825</td>\n",
       "      <td>0.730647</td>\n",
       "    </tr>\n",
       "    <tr>\n",
       "      <th>10</th>\n",
       "      <td>0.50</td>\n",
       "      <td>9392.0</td>\n",
       "      <td>0.689655</td>\n",
       "      <td>0.733029</td>\n",
       "      <td>0.753833</td>\n",
       "      <td>0.720317</td>\n",
       "    </tr>\n",
       "    <tr>\n",
       "      <th>11</th>\n",
       "      <td>0.55</td>\n",
       "      <td>8419.0</td>\n",
       "      <td>0.640171</td>\n",
       "      <td>0.730941</td>\n",
       "      <td>0.780615</td>\n",
       "      <td>0.703452</td>\n",
       "    </tr>\n",
       "    <tr>\n",
       "      <th>12</th>\n",
       "      <td>0.60</td>\n",
       "      <td>7522.0</td>\n",
       "      <td>0.587765</td>\n",
       "      <td>0.722249</td>\n",
       "      <td>0.802180</td>\n",
       "      <td>0.678435</td>\n",
       "    </tr>\n",
       "    <tr>\n",
       "      <th>13</th>\n",
       "      <td>0.65</td>\n",
       "      <td>6922.0</td>\n",
       "      <td>0.550360</td>\n",
       "      <td>0.714091</td>\n",
       "      <td>0.816238</td>\n",
       "      <td>0.657435</td>\n",
       "    </tr>\n",
       "    <tr>\n",
       "      <th>14</th>\n",
       "      <td>0.70</td>\n",
       "      <td>6466.0</td>\n",
       "      <td>0.521333</td>\n",
       "      <td>0.707293</td>\n",
       "      <td>0.827714</td>\n",
       "      <td>0.639732</td>\n",
       "    </tr>\n",
       "    <tr>\n",
       "      <th>15</th>\n",
       "      <td>0.75</td>\n",
       "      <td>5993.0</td>\n",
       "      <td>0.488019</td>\n",
       "      <td>0.697048</td>\n",
       "      <td>0.835975</td>\n",
       "      <td>0.616274</td>\n",
       "    </tr>\n",
       "    <tr>\n",
       "      <th>16</th>\n",
       "      <td>0.80</td>\n",
       "      <td>5097.0</td>\n",
       "      <td>0.419832</td>\n",
       "      <td>0.672575</td>\n",
       "      <td>0.845595</td>\n",
       "      <td>0.561088</td>\n",
       "    </tr>\n",
       "    <tr>\n",
       "      <th>17</th>\n",
       "      <td>0.85</td>\n",
       "      <td>2717.0</td>\n",
       "      <td>0.228327</td>\n",
       "      <td>0.597213</td>\n",
       "      <td>0.862716</td>\n",
       "      <td>0.361088</td>\n",
       "    </tr>\n",
       "    <tr>\n",
       "      <th>18</th>\n",
       "      <td>0.90</td>\n",
       "      <td>204.0</td>\n",
       "      <td>0.017144</td>\n",
       "      <td>0.508692</td>\n",
       "      <td>0.862745</td>\n",
       "      <td>0.033620</td>\n",
       "    </tr>\n",
       "    <tr>\n",
       "      <th>19</th>\n",
       "      <td>0.95</td>\n",
       "      <td>2.0</td>\n",
       "      <td>0.000195</td>\n",
       "      <td>0.501602</td>\n",
       "      <td>1.000000</td>\n",
       "      <td>0.000390</td>\n",
       "    </tr>\n",
       "  </tbody>\n",
       "</table>\n",
       "</div>"
      ],
      "text/plain": [
       "    Punto de corte  N_Predicted    Recall  Accuracy  Precision  F1 score\n",
       "0             0.00      20594.0  1.000000  0.498495   0.498495  0.665327\n",
       "1             0.05      20526.0  0.999805  0.501602   0.500049  0.666667\n",
       "2             0.10      20006.0  0.995909  0.522968   0.511047  0.675476\n",
       "3             0.15      19010.0  0.985681  0.561134   0.532299  0.691283\n",
       "4             0.20      17800.0  0.966004  0.600272   0.557135  0.706691\n",
       "5             0.25      16192.0  0.930158  0.642614   0.589736  0.721823\n",
       "6             0.30      14477.0  0.884083  0.679955   0.626925  0.733622\n",
       "7             0.35      12987.0  0.837327  0.705691   0.661893  0.739345\n",
       "8             0.40      11449.0  0.780148  0.723366   0.699537  0.737647\n",
       "9             0.45      10261.0  0.730470  0.731524   0.730825  0.730647\n",
       "10            0.50       9392.0  0.689655  0.733029   0.753833  0.720317\n",
       "11            0.55       8419.0  0.640171  0.730941   0.780615  0.703452\n",
       "12            0.60       7522.0  0.587765  0.722249   0.802180  0.678435\n",
       "13            0.65       6922.0  0.550360  0.714091   0.816238  0.657435\n",
       "14            0.70       6466.0  0.521333  0.707293   0.827714  0.639732\n",
       "15            0.75       5993.0  0.488019  0.697048   0.835975  0.616274\n",
       "16            0.80       5097.0  0.419832  0.672575   0.845595  0.561088\n",
       "17            0.85       2717.0  0.228327  0.597213   0.862716  0.361088\n",
       "18            0.90        204.0  0.017144  0.508692   0.862745  0.033620\n",
       "19            0.95          2.0  0.000195  0.501602   1.000000  0.000390"
      ]
     },
     "execution_count": 61,
     "metadata": {},
     "output_type": "execute_result"
    }
   ],
   "source": [
    "get_threshold_measures_df(y_test, y_pred_lgbm)"
   ]
  },
  {
   "cell_type": "markdown",
   "metadata": {},
   "source": [
    "# 6. Register Model"
   ]
  },
  {
   "cell_type": "code",
   "execution_count": 63,
   "metadata": {},
   "outputs": [],
   "source": [
    "from azureml.core.model import Model"
   ]
  },
  {
   "cell_type": "code",
   "execution_count": 64,
   "metadata": {},
   "outputs": [
    {
     "name": "stdout",
     "output_type": "stream",
     "text": [
      "Registering model cardiovascular_disease_predictor\n",
      "\n",
      "Model registered: cardiovascular_disease_predictor \n",
      "Model Description: Classification Model that predicts if a person could suffer a heart attack \n",
      "Model Version: 1\n"
     ]
    }
   ],
   "source": [
    "# register the model for deployment\n",
    "model = Model.register(model_path = \"outputs/model_lgbm.pkl\", # this points to a local file\n",
    "                       model_name = \"cardiovascular_disease_predictor\", # name the model is registered as\n",
    "                       tags = {'area': \"Health\", 'type': \"classification\"}, \n",
    "                       description = \"Classification Model that predicts if a person could suffer a heart attack\", \n",
    "                       workspace = ws)\n",
    "\n",
    "print()\n",
    "print(\"Model registered: {} \\nModel Description: {} \\nModel Version: {}\".format(model.name, \n",
    "                                                                                model.description, model.version))"
   ]
  },
  {
   "cell_type": "markdown",
   "metadata": {},
   "source": [
    "# 7. Conclussions"
   ]
  },
  {
   "cell_type": "markdown",
   "metadata": {},
   "source": [
    "Data required in order to predict if a person could suffer a heart attack:\n",
    "    [age, gender, heigth, weight, blood pressure, cholesterol, gluosa, smole]"
   ]
  },
  {
   "cell_type": "markdown",
   "metadata": {},
   "source": [
    "✅ In many regions with a high poverty rate there are hospitals with basic equipment. Sick people come to be treated for very common illnesses such as heart attacks, but many times doctors cannot help them due to lack of equipment. Thus this solution can help doctors to predict in time whether a person is prone to suffer an attack and thus give them timely treatment. Hope this solution can motivate to other people to use Machine Learning on Health."
   ]
  }
 ],
 "metadata": {
  "kernelspec": {
   "display_name": "Python 3.6 - AzureML",
   "language": "python",
   "name": "python3-azureml"
  },
  "language_info": {
   "codemirror_mode": {
    "name": "ipython",
    "version": 3
   },
   "file_extension": ".py",
   "mimetype": "text/x-python",
   "name": "python",
   "nbconvert_exporter": "python",
   "pygments_lexer": "ipython3",
   "version": "3.6.9"
  }
 },
 "nbformat": 4,
 "nbformat_minor": 4
}
